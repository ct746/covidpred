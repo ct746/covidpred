{
 "cells": [
  {
   "cell_type": "code",
   "execution_count": 1,
   "id": "a82acc6a-6d91-4c3f-b32b-f3fd8f056417",
   "metadata": {},
   "outputs": [],
   "source": [
    "import pandas as pd\n",
    "\n",
    "from zipfile import ZipFile"
   ]
  },
  {
   "cell_type": "markdown",
   "id": "9f261e93-ae6d-46b6-8953-8dab34428be8",
   "metadata": {},
   "source": [
    "# Reading the data"
   ]
  },
  {
   "cell_type": "code",
   "execution_count": 2,
   "id": "6180a288-d00a-41dc-a8d8-cab19e866cac",
   "metadata": {},
   "outputs": [],
   "source": [
    "# Paths to the files.\n",
    "ver_006_path = '../data/corona_tested_individuals_ver_006.english.csv.zip'\n",
    "ver_0083_path = '../data/corona_tested_individuals_ver_0083.english.csv.zip'\n",
    "ver_00220_path = '../data/corona_tested_individuals_ver_00220.english.zip'"
   ]
  },
  {
   "cell_type": "code",
   "execution_count": 3,
   "id": "c16585f0-bc1a-4b0a-875c-fddbf3e68519",
   "metadata": {},
   "outputs": [
    {
     "data": {
      "text/html": [
       "<div>\n",
       "<style scoped>\n",
       "    .dataframe tbody tr th:only-of-type {\n",
       "        vertical-align: middle;\n",
       "    }\n",
       "\n",
       "    .dataframe tbody tr th {\n",
       "        vertical-align: top;\n",
       "    }\n",
       "\n",
       "    .dataframe thead th {\n",
       "        text-align: right;\n",
       "    }\n",
       "</style>\n",
       "<table border=\"1\" class=\"dataframe\">\n",
       "  <thead>\n",
       "    <tr style=\"text-align: right;\">\n",
       "      <th></th>\n",
       "      <th>test_date</th>\n",
       "      <th>cough</th>\n",
       "      <th>fever</th>\n",
       "      <th>sore_throat</th>\n",
       "      <th>shortness_of_breath</th>\n",
       "      <th>head_ache</th>\n",
       "      <th>corona_result</th>\n",
       "      <th>age_60_and_above</th>\n",
       "      <th>gender</th>\n",
       "      <th>test_indication</th>\n",
       "    </tr>\n",
       "  </thead>\n",
       "  <tbody>\n",
       "    <tr>\n",
       "      <th>0</th>\n",
       "      <td>2020-04-30</td>\n",
       "      <td>0</td>\n",
       "      <td>0</td>\n",
       "      <td>0</td>\n",
       "      <td>0</td>\n",
       "      <td>0</td>\n",
       "      <td>negative</td>\n",
       "      <td>None</td>\n",
       "      <td>female</td>\n",
       "      <td>Other</td>\n",
       "    </tr>\n",
       "    <tr>\n",
       "      <th>1</th>\n",
       "      <td>2020-04-30</td>\n",
       "      <td>1</td>\n",
       "      <td>0</td>\n",
       "      <td>0</td>\n",
       "      <td>0</td>\n",
       "      <td>0</td>\n",
       "      <td>negative</td>\n",
       "      <td>None</td>\n",
       "      <td>female</td>\n",
       "      <td>Other</td>\n",
       "    </tr>\n",
       "    <tr>\n",
       "      <th>2</th>\n",
       "      <td>2020-04-30</td>\n",
       "      <td>0</td>\n",
       "      <td>1</td>\n",
       "      <td>0</td>\n",
       "      <td>0</td>\n",
       "      <td>0</td>\n",
       "      <td>negative</td>\n",
       "      <td>None</td>\n",
       "      <td>male</td>\n",
       "      <td>Other</td>\n",
       "    </tr>\n",
       "    <tr>\n",
       "      <th>3</th>\n",
       "      <td>2020-04-30</td>\n",
       "      <td>1</td>\n",
       "      <td>0</td>\n",
       "      <td>0</td>\n",
       "      <td>0</td>\n",
       "      <td>0</td>\n",
       "      <td>negative</td>\n",
       "      <td>None</td>\n",
       "      <td>female</td>\n",
       "      <td>Other</td>\n",
       "    </tr>\n",
       "    <tr>\n",
       "      <th>4</th>\n",
       "      <td>2020-04-30</td>\n",
       "      <td>1</td>\n",
       "      <td>0</td>\n",
       "      <td>0</td>\n",
       "      <td>0</td>\n",
       "      <td>0</td>\n",
       "      <td>negative</td>\n",
       "      <td>None</td>\n",
       "      <td>male</td>\n",
       "      <td>Other</td>\n",
       "    </tr>\n",
       "  </tbody>\n",
       "</table>\n",
       "</div>"
      ],
      "text/plain": [
       "   test_date cough fever sore_throat shortness_of_breath head_ache  \\\n",
       "0 2020-04-30     0     0           0                   0         0   \n",
       "1 2020-04-30     1     0           0                   0         0   \n",
       "2 2020-04-30     0     1           0                   0         0   \n",
       "3 2020-04-30     1     0           0                   0         0   \n",
       "4 2020-04-30     1     0           0                   0         0   \n",
       "\n",
       "  corona_result age_60_and_above  gender test_indication  \n",
       "0      negative             None  female           Other  \n",
       "1      negative             None  female           Other  \n",
       "2      negative             None    male           Other  \n",
       "3      negative             None  female           Other  \n",
       "4      negative             None    male           Other  "
      ]
     },
     "execution_count": 3,
     "metadata": {},
     "output_type": "execute_result"
    }
   ],
   "source": [
    "# Read the first file into memory.\n",
    "ver_006 = pd.read_csv(ver_006_path, parse_dates=['test_date'], low_memory=False, \n",
    "                      memory_map=True)\n",
    "\n",
    "ver_006.head()"
   ]
  },
  {
   "cell_type": "code",
   "execution_count": 4,
   "id": "cbc2ecbc-d9a1-4e4c-a917-da7923ca40fb",
   "metadata": {},
   "outputs": [
    {
     "name": "stdout",
     "output_type": "stream",
     "text": [
      "<class 'pandas.core.frame.DataFrame'>\n",
      "RangeIndex: 278848 entries, 0 to 278847\n",
      "Data columns (total 10 columns):\n",
      " #   Column               Non-Null Count   Dtype         \n",
      "---  ------               --------------   -----         \n",
      " 0   test_date            278848 non-null  datetime64[ns]\n",
      " 1   cough                278848 non-null  object        \n",
      " 2   fever                278848 non-null  object        \n",
      " 3   sore_throat          278848 non-null  object        \n",
      " 4   shortness_of_breath  278848 non-null  object        \n",
      " 5   head_ache            278848 non-null  object        \n",
      " 6   corona_result        278848 non-null  object        \n",
      " 7   age_60_and_above     278848 non-null  object        \n",
      " 8   gender               278848 non-null  object        \n",
      " 9   test_indication      278848 non-null  object        \n",
      "dtypes: datetime64[ns](1), object(9)\n",
      "memory usage: 21.3+ MB\n"
     ]
    }
   ],
   "source": [
    "ver_006.info()"
   ]
  },
  {
   "cell_type": "code",
   "execution_count": 5,
   "id": "020c2d6b-9a4a-41f2-aa86-a681020eda4a",
   "metadata": {},
   "outputs": [
    {
     "data": {
      "text/plain": [
       "(Timestamp('2020-03-11 00:00:00'), Timestamp('2020-04-30 00:00:00'))"
      ]
     },
     "execution_count": 5,
     "metadata": {},
     "output_type": "execute_result"
    }
   ],
   "source": [
    "ver_006.loc[:, 'test_date'].min(), ver_006.loc[:, 'test_date'].max()"
   ]
  },
  {
   "cell_type": "code",
   "execution_count": 6,
   "id": "9006ff00-5def-4f23-93d3-d04afa2ab66b",
   "metadata": {},
   "outputs": [
    {
     "data": {
      "text/html": [
       "<div>\n",
       "<style scoped>\n",
       "    .dataframe tbody tr th:only-of-type {\n",
       "        vertical-align: middle;\n",
       "    }\n",
       "\n",
       "    .dataframe tbody tr th {\n",
       "        vertical-align: top;\n",
       "    }\n",
       "\n",
       "    .dataframe thead th {\n",
       "        text-align: right;\n",
       "    }\n",
       "</style>\n",
       "<table border=\"1\" class=\"dataframe\">\n",
       "  <thead>\n",
       "    <tr style=\"text-align: right;\">\n",
       "      <th></th>\n",
       "      <th>test_date</th>\n",
       "      <th>cough</th>\n",
       "      <th>fever</th>\n",
       "      <th>sore_throat</th>\n",
       "      <th>shortness_of_breath</th>\n",
       "      <th>head_ache</th>\n",
       "      <th>corona_result</th>\n",
       "      <th>age_60_and_above</th>\n",
       "      <th>gender</th>\n",
       "      <th>test_indication</th>\n",
       "    </tr>\n",
       "  </thead>\n",
       "  <tbody>\n",
       "    <tr>\n",
       "      <th>0</th>\n",
       "      <td>2020-11-12</td>\n",
       "      <td>0</td>\n",
       "      <td>0</td>\n",
       "      <td>0</td>\n",
       "      <td>0</td>\n",
       "      <td>0</td>\n",
       "      <td>negative</td>\n",
       "      <td>No</td>\n",
       "      <td>male</td>\n",
       "      <td>Other</td>\n",
       "    </tr>\n",
       "    <tr>\n",
       "      <th>1</th>\n",
       "      <td>2020-11-12</td>\n",
       "      <td>0</td>\n",
       "      <td>1</td>\n",
       "      <td>0</td>\n",
       "      <td>0</td>\n",
       "      <td>0</td>\n",
       "      <td>negative</td>\n",
       "      <td>No</td>\n",
       "      <td>male</td>\n",
       "      <td>Other</td>\n",
       "    </tr>\n",
       "    <tr>\n",
       "      <th>2</th>\n",
       "      <td>2020-11-12</td>\n",
       "      <td>0</td>\n",
       "      <td>0</td>\n",
       "      <td>0</td>\n",
       "      <td>0</td>\n",
       "      <td>0</td>\n",
       "      <td>negative</td>\n",
       "      <td>Yes</td>\n",
       "      <td>female</td>\n",
       "      <td>Other</td>\n",
       "    </tr>\n",
       "    <tr>\n",
       "      <th>3</th>\n",
       "      <td>2020-11-12</td>\n",
       "      <td>0</td>\n",
       "      <td>0</td>\n",
       "      <td>0</td>\n",
       "      <td>0</td>\n",
       "      <td>0</td>\n",
       "      <td>negative</td>\n",
       "      <td>No</td>\n",
       "      <td>male</td>\n",
       "      <td>Other</td>\n",
       "    </tr>\n",
       "    <tr>\n",
       "      <th>4</th>\n",
       "      <td>2020-11-12</td>\n",
       "      <td>0</td>\n",
       "      <td>1</td>\n",
       "      <td>0</td>\n",
       "      <td>0</td>\n",
       "      <td>0</td>\n",
       "      <td>negative</td>\n",
       "      <td>No</td>\n",
       "      <td>male</td>\n",
       "      <td>Contact with confirmed</td>\n",
       "    </tr>\n",
       "  </tbody>\n",
       "</table>\n",
       "</div>"
      ],
      "text/plain": [
       "   test_date  cough  fever  sore_throat  shortness_of_breath  head_ache  \\\n",
       "0 2020-11-12      0      0            0                    0          0   \n",
       "1 2020-11-12      0      1            0                    0          0   \n",
       "2 2020-11-12      0      0            0                    0          0   \n",
       "3 2020-11-12      0      0            0                    0          0   \n",
       "4 2020-11-12      0      1            0                    0          0   \n",
       "\n",
       "  corona_result age_60_and_above  gender         test_indication  \n",
       "0      negative               No    male                   Other  \n",
       "1      negative               No    male                   Other  \n",
       "2      negative              Yes  female                   Other  \n",
       "3      negative               No    male                   Other  \n",
       "4      negative               No    male  Contact with confirmed  "
      ]
     },
     "execution_count": 6,
     "metadata": {},
     "output_type": "execute_result"
    }
   ],
   "source": [
    "# Read the second file into memory, but it's got multiple files in due to being created on macOS, so need to use ZipFile class.\n",
    "ver_0083_zip = ZipFile(ver_0083_path)\n",
    "\n",
    "ver_0083 = pd.read_csv(ver_0083_zip.open('corona_tested_individuals_ver_0083.english.csv'), parse_dates=['test_date'], low_memory=False)\n",
    "\n",
    "ver_0083.head()"
   ]
  },
  {
   "cell_type": "code",
   "execution_count": 7,
   "id": "5270e621-d25d-44f5-af8c-a56ac80b0445",
   "metadata": {},
   "outputs": [
    {
     "name": "stdout",
     "output_type": "stream",
     "text": [
      "<class 'pandas.core.frame.DataFrame'>\n",
      "RangeIndex: 2742596 entries, 0 to 2742595\n",
      "Data columns (total 10 columns):\n",
      " #   Column               Non-Null Count    Dtype         \n",
      "---  ------               --------------    -----         \n",
      " 0   test_date            2742596 non-null  datetime64[ns]\n",
      " 1   cough                2742596 non-null  int64         \n",
      " 2   fever                2742596 non-null  int64         \n",
      " 3   sore_throat          2742596 non-null  int64         \n",
      " 4   shortness_of_breath  2742596 non-null  int64         \n",
      " 5   head_ache            2742596 non-null  int64         \n",
      " 6   corona_result        2742596 non-null  object        \n",
      " 7   age_60_and_above     2194952 non-null  object        \n",
      " 8   gender               2649710 non-null  object        \n",
      " 9   test_indication      2742596 non-null  object        \n",
      "dtypes: datetime64[ns](1), int64(5), object(4)\n",
      "memory usage: 209.2+ MB\n"
     ]
    }
   ],
   "source": [
    "ver_0083.info(show_counts=True)"
   ]
  },
  {
   "cell_type": "code",
   "execution_count": 8,
   "id": "583b81a5-f407-46e5-872a-731695ac0adc",
   "metadata": {},
   "outputs": [
    {
     "data": {
      "text/plain": [
       "(Timestamp('2020-03-11 00:00:00'), Timestamp('2020-11-12 00:00:00'))"
      ]
     },
     "execution_count": 8,
     "metadata": {},
     "output_type": "execute_result"
    }
   ],
   "source": [
    "# This version is much larger than the previous one.\n",
    "ver_0083.loc[:, 'test_date'].min(), ver_0083.loc[:, 'test_date'].max()"
   ]
  },
  {
   "cell_type": "code",
   "execution_count": 9,
   "id": "980c00b5-5e78-4f3c-b6a7-7e5207bb05db",
   "metadata": {},
   "outputs": [
    {
     "data": {
      "text/html": [
       "<div>\n",
       "<style scoped>\n",
       "    .dataframe tbody tr th:only-of-type {\n",
       "        vertical-align: middle;\n",
       "    }\n",
       "\n",
       "    .dataframe tbody tr th {\n",
       "        vertical-align: top;\n",
       "    }\n",
       "\n",
       "    .dataframe thead th {\n",
       "        text-align: right;\n",
       "    }\n",
       "</style>\n",
       "<table border=\"1\" class=\"dataframe\">\n",
       "  <thead>\n",
       "    <tr style=\"text-align: right;\">\n",
       "      <th></th>\n",
       "      <th>test_date</th>\n",
       "      <th>cough</th>\n",
       "      <th>fever</th>\n",
       "      <th>sore_throat</th>\n",
       "      <th>shortness_of_breath</th>\n",
       "      <th>head_ache</th>\n",
       "      <th>corona_result</th>\n",
       "      <th>age_60_and_above</th>\n",
       "      <th>gender</th>\n",
       "      <th>test_indication</th>\n",
       "    </tr>\n",
       "  </thead>\n",
       "  <tbody>\n",
       "    <tr>\n",
       "      <th>0</th>\n",
       "      <td>2022-01-30</td>\n",
       "      <td>0</td>\n",
       "      <td>0</td>\n",
       "      <td>0</td>\n",
       "      <td>0</td>\n",
       "      <td>0</td>\n",
       "      <td>positive</td>\n",
       "      <td>No</td>\n",
       "      <td>female</td>\n",
       "      <td>Other</td>\n",
       "    </tr>\n",
       "    <tr>\n",
       "      <th>1</th>\n",
       "      <td>2022-01-30</td>\n",
       "      <td>0</td>\n",
       "      <td>0</td>\n",
       "      <td>0</td>\n",
       "      <td>0</td>\n",
       "      <td>0</td>\n",
       "      <td>positive</td>\n",
       "      <td>No</td>\n",
       "      <td>female</td>\n",
       "      <td>Other</td>\n",
       "    </tr>\n",
       "    <tr>\n",
       "      <th>2</th>\n",
       "      <td>2022-01-30</td>\n",
       "      <td>0</td>\n",
       "      <td>0</td>\n",
       "      <td>0</td>\n",
       "      <td>0</td>\n",
       "      <td>0</td>\n",
       "      <td>positive</td>\n",
       "      <td>No</td>\n",
       "      <td>male</td>\n",
       "      <td>Other</td>\n",
       "    </tr>\n",
       "    <tr>\n",
       "      <th>3</th>\n",
       "      <td>2022-01-30</td>\n",
       "      <td>0</td>\n",
       "      <td>0</td>\n",
       "      <td>0</td>\n",
       "      <td>0</td>\n",
       "      <td>0</td>\n",
       "      <td>positive</td>\n",
       "      <td>No</td>\n",
       "      <td>female</td>\n",
       "      <td>Other</td>\n",
       "    </tr>\n",
       "    <tr>\n",
       "      <th>4</th>\n",
       "      <td>2022-01-30</td>\n",
       "      <td>0</td>\n",
       "      <td>0</td>\n",
       "      <td>0</td>\n",
       "      <td>0</td>\n",
       "      <td>0</td>\n",
       "      <td>positive</td>\n",
       "      <td>No</td>\n",
       "      <td>female</td>\n",
       "      <td>Other</td>\n",
       "    </tr>\n",
       "  </tbody>\n",
       "</table>\n",
       "</div>"
      ],
      "text/plain": [
       "   test_date  cough  fever  sore_throat  shortness_of_breath  head_ache  \\\n",
       "0 2022-01-30      0      0            0                    0          0   \n",
       "1 2022-01-30      0      0            0                    0          0   \n",
       "2 2022-01-30      0      0            0                    0          0   \n",
       "3 2022-01-30      0      0            0                    0          0   \n",
       "4 2022-01-30      0      0            0                    0          0   \n",
       "\n",
       "  corona_result age_60_and_above  gender test_indication  \n",
       "0      positive               No  female           Other  \n",
       "1      positive               No  female           Other  \n",
       "2      positive               No    male           Other  \n",
       "3      positive               No  female           Other  \n",
       "4      positive               No  female           Other  "
      ]
     },
     "execution_count": 9,
     "metadata": {},
     "output_type": "execute_result"
    }
   ],
   "source": [
    "# Read the final, extended file, into memory.\n",
    "ver_00220 = pd.read_csv(ver_00220_path, parse_dates=['test_date'], low_memory=False, memory_map=True)\n",
    "\n",
    "ver_00220.head()"
   ]
  },
  {
   "cell_type": "code",
   "execution_count": 10,
   "id": "f7f0e791-5682-4383-a48e-40f7592f7417",
   "metadata": {},
   "outputs": [
    {
     "name": "stdout",
     "output_type": "stream",
     "text": [
      "<class 'pandas.core.frame.DataFrame'>\n",
      "RangeIndex: 8890301 entries, 0 to 8890300\n",
      "Data columns (total 10 columns):\n",
      " #   Column               Non-Null Count    Dtype         \n",
      "---  ------               --------------    -----         \n",
      " 0   test_date            8890301 non-null  datetime64[ns]\n",
      " 1   cough                8890301 non-null  int64         \n",
      " 2   fever                8890301 non-null  int64         \n",
      " 3   sore_throat          8890301 non-null  int64         \n",
      " 4   shortness_of_breath  8890301 non-null  int64         \n",
      " 5   head_ache            8890301 non-null  int64         \n",
      " 6   corona_result        8890301 non-null  object        \n",
      " 7   age_60_and_above     6860335 non-null  object        \n",
      " 8   gender               8226393 non-null  object        \n",
      " 9   test_indication      8890301 non-null  object        \n",
      "dtypes: datetime64[ns](1), int64(5), object(4)\n",
      "memory usage: 678.3+ MB\n"
     ]
    }
   ],
   "source": [
    "ver_00220.info(show_counts=True)"
   ]
  },
  {
   "cell_type": "code",
   "execution_count": 11,
   "id": "a7cf3400-fd36-467f-a07d-75094a5a65af",
   "metadata": {},
   "outputs": [
    {
     "data": {
      "text/plain": [
       "(Timestamp('2020-03-11 00:00:00'), Timestamp('2022-01-30 00:00:00'))"
      ]
     },
     "execution_count": 11,
     "metadata": {},
     "output_type": "execute_result"
    }
   ],
   "source": [
    "# This extended file has data all the way to 2022, so we should use this.\n",
    "ver_00220.loc[:, 'test_date'].min(), ver_00220.loc[:, 'test_date'].max()"
   ]
  },
  {
   "cell_type": "code",
   "execution_count": 28,
   "id": "73d38c8b-84f3-4306-83da-c97dcfc85e85",
   "metadata": {},
   "outputs": [],
   "source": [
    "# As this version of the file has the most data, select this as the data to use going forward.\n",
    "data = ver_00220.copy()"
   ]
  },
  {
   "cell_type": "markdown",
   "id": "cb2d8eab-90e8-4bea-b370-12b54d9c72f7",
   "metadata": {
    "tags": []
   },
   "source": [
    "# Exploratory data analysis and data preprocessing"
   ]
  },
  {
   "cell_type": "code",
   "execution_count": 29,
   "id": "4c3f2187-8011-4ef0-8c16-26eafd96d8e5",
   "metadata": {},
   "outputs": [
    {
     "name": "stdout",
     "output_type": "stream",
     "text": [
      "cough: 2 [0 1]\n",
      "fever: 2 [0 1]\n",
      "sore_throat: 2 [0 1]\n",
      "shortness_of_breath: 2 [0 1]\n",
      "head_ache: 2 [0 1]\n",
      "corona_result: 3 ['positive' 'negative' 'other']\n",
      "age_60_and_above: 2 ['No' 'Yes' nan]\n",
      "gender: 2 ['female' 'male' nan]\n",
      "test_indication: 3 ['Other' 'Abroad' 'Contact with confirmed']\n"
     ]
    }
   ],
   "source": [
    "# Do we have columns with multiple distinct values?\n",
    "for column in data.columns[~ (data.columns == 'test_date')]:\n",
    "    print(f'{column}: {data.loc[:, column].nunique()} {data.loc[:, column].unique()}')"
   ]
  },
  {
   "cell_type": "code",
   "execution_count": 30,
   "id": "ba0b34a6-5a15-4219-b0d5-05e02539db8f",
   "metadata": {
    "tags": []
   },
   "outputs": [
    {
     "data": {
      "text/plain": [
       "negative    0.883685\n",
       "positive    0.089998\n",
       "other       0.026317\n",
       "Name: corona_result, dtype: float64"
      ]
     },
     "execution_count": 30,
     "metadata": {},
     "output_type": "execute_result"
    }
   ],
   "source": [
    "# There are a few columns with multiple distinct values, even the target column. How many instances of other are there?\n",
    "data.loc[:, 'corona_result'].value_counts() / data.shape[0]"
   ]
  },
  {
   "cell_type": "code",
   "execution_count": 31,
   "id": "5d03e41e-7bba-4980-98b0-90b88d550d27",
   "metadata": {},
   "outputs": [],
   "source": [
    "# There are only a few (2.6 %) of other results, so these can be dropped. The data dictionary provided also shows that they are almost certainly \n",
    "# inconclusive assay results.\n",
    "data = data.loc[~ (data.loc[:, 'corona_result'] == 'other'), :]"
   ]
  },
  {
   "cell_type": "code",
   "execution_count": 32,
   "id": "bc1c91a9-5db7-45bb-a682-d47597fe5ff5",
   "metadata": {},
   "outputs": [],
   "source": [
    "# The target variable needs to be mapped to an integer so it does not get split when one-hot encoding.\n",
    "data.loc[:, 'corona_result'] = data.loc[:, 'corona_result'].map({'positive': 1, 'negative': 0})"
   ]
  },
  {
   "cell_type": "code",
   "execution_count": 34,
   "id": "4941e7c0-dfa4-4f4c-b5b0-9745404d6b84",
   "metadata": {},
   "outputs": [
    {
     "data": {
      "text/plain": [
       "array([1, 0])"
      ]
     },
     "execution_count": 34,
     "metadata": {},
     "output_type": "execute_result"
    }
   ],
   "source": [
    "data.loc[:, 'corona_result'].unique()"
   ]
  },
  {
   "cell_type": "code",
   "execution_count": 35,
   "id": "25ac4dc7-3371-4450-873d-6d259e3609cc",
   "metadata": {},
   "outputs": [
    {
     "data": {
      "text/plain": [
       "<AxesSubplot:>"
      ]
     },
     "execution_count": 35,
     "metadata": {},
     "output_type": "execute_result"
    },
    {
     "data": {
      "image/png": "[encoded data removed]",
      "text/plain": [
       "<Figure size 432x288 with 1 Axes>"
      ]
     },
     "metadata": {
      "needs_background": "light"
     },
     "output_type": "display_data"
    }
   ],
   "source": [
    "# The age 60 and above column and gender columns have NULL values. These can be dropped as we have so much data now, but I just want to make sure\n",
    "# that the NULL values are reasonably evenly distributed across the time span of the data so we are not going to lose an entire time period.\n",
    "data.loc[data.loc[:, 'age_60_and_above'].isna(), 'test_date'].hist()"
   ]
  },
  {
   "cell_type": "code",
   "execution_count": 36,
   "id": "4a25d8d9-1584-43df-a972-663c70e11b3f",
   "metadata": {},
   "outputs": [
    {
     "data": {
      "text/plain": [
       "<AxesSubplot:>"
      ]
     },
     "execution_count": 36,
     "metadata": {},
     "output_type": "execute_result"
    },
    {
     "data": {
      "image/png": "[encoded data removed]",
      "text/plain": [
       "<Figure size 432x288 with 1 Axes>"
      ]
     },
     "metadata": {
      "needs_background": "light"
     },
     "output_type": "display_data"
    }
   ],
   "source": [
    "data.loc[data.loc[:, 'gender'].isna(), 'test_date'].hist()"
   ]
  },
  {
   "cell_type": "code",
   "execution_count": 37,
   "id": "d7acd1fe-d2c9-4645-ae0b-2db151795f77",
   "metadata": {},
   "outputs": [],
   "source": [
    "# There are missing values across the entire time span of the data, unfortunately this is particularly in the spring of 2021. We will lose a lot of \n",
    "# data for that period by dropping, but I do not think we need to use some smart method to impute the missing values.\n",
    "data = data.dropna()"
   ]
  },
  {
   "cell_type": "code",
   "execution_count": 38,
   "id": "abd83b85-d829-4a3d-8cf8-c37d7acc8e25",
   "metadata": {},
   "outputs": [
    {
     "data": {
      "text/plain": [
       "<AxesSubplot:>"
      ]
     },
     "execution_count": 38,
     "metadata": {},
     "output_type": "execute_result"
    },
    {
     "data": {
      "image/png": "[encoded data removed]",
      "text/plain": [
       "<Figure size 432x288 with 1 Axes>"
      ]
     },
     "metadata": {
      "needs_background": "light"
     },
     "output_type": "display_data"
    }
   ],
   "source": [
    "data.loc[:, 'test_date'].hist()"
   ]
  },
  {
   "cell_type": "code",
   "execution_count": 68,
   "id": "c129dc1b-3e2d-4d6f-bebf-f6e3ee923cc1",
   "metadata": {},
   "outputs": [
    {
     "data": {
      "text/html": [
       "<div>\n",
       "<style scoped>\n",
       "    .dataframe tbody tr th:only-of-type {\n",
       "        vertical-align: middle;\n",
       "    }\n",
       "\n",
       "    .dataframe tbody tr th {\n",
       "        vertical-align: top;\n",
       "    }\n",
       "\n",
       "    .dataframe thead th {\n",
       "        text-align: right;\n",
       "    }\n",
       "</style>\n",
       "<table border=\"1\" class=\"dataframe\">\n",
       "  <thead>\n",
       "    <tr style=\"text-align: right;\">\n",
       "      <th></th>\n",
       "      <th>test_date</th>\n",
       "      <th>cough</th>\n",
       "      <th>fever</th>\n",
       "      <th>sore_throat</th>\n",
       "      <th>shortness_of_breath</th>\n",
       "      <th>head_ache</th>\n",
       "      <th>corona_result_negative</th>\n",
       "      <th>corona_result_positive</th>\n",
       "      <th>age_60_and_above_No</th>\n",
       "      <th>age_60_and_above_Yes</th>\n",
       "      <th>gender_female</th>\n",
       "      <th>gender_male</th>\n",
       "      <th>test_indication_Abroad</th>\n",
       "      <th>test_indication_Contact with confirmed</th>\n",
       "      <th>test_indication_Other</th>\n",
       "    </tr>\n",
       "  </thead>\n",
       "  <tbody>\n",
       "    <tr>\n",
       "      <th>0</th>\n",
       "      <td>2022-01-30</td>\n",
       "      <td>0</td>\n",
       "      <td>0</td>\n",
       "      <td>0</td>\n",
       "      <td>0</td>\n",
       "      <td>0</td>\n",
       "      <td>0</td>\n",
       "      <td>1</td>\n",
       "      <td>1</td>\n",
       "      <td>0</td>\n",
       "      <td>1</td>\n",
       "      <td>0</td>\n",
       "      <td>0</td>\n",
       "      <td>0</td>\n",
       "      <td>1</td>\n",
       "    </tr>\n",
       "    <tr>\n",
       "      <th>1</th>\n",
       "      <td>2022-01-30</td>\n",
       "      <td>0</td>\n",
       "      <td>0</td>\n",
       "      <td>0</td>\n",
       "      <td>0</td>\n",
       "      <td>0</td>\n",
       "      <td>0</td>\n",
       "      <td>1</td>\n",
       "      <td>1</td>\n",
       "      <td>0</td>\n",
       "      <td>1</td>\n",
       "      <td>0</td>\n",
       "      <td>0</td>\n",
       "      <td>0</td>\n",
       "      <td>1</td>\n",
       "    </tr>\n",
       "    <tr>\n",
       "      <th>2</th>\n",
       "      <td>2022-01-30</td>\n",
       "      <td>0</td>\n",
       "      <td>0</td>\n",
       "      <td>0</td>\n",
       "      <td>0</td>\n",
       "      <td>0</td>\n",
       "      <td>0</td>\n",
       "      <td>1</td>\n",
       "      <td>1</td>\n",
       "      <td>0</td>\n",
       "      <td>0</td>\n",
       "      <td>1</td>\n",
       "      <td>0</td>\n",
       "      <td>0</td>\n",
       "      <td>1</td>\n",
       "    </tr>\n",
       "    <tr>\n",
       "      <th>3</th>\n",
       "      <td>2022-01-30</td>\n",
       "      <td>0</td>\n",
       "      <td>0</td>\n",
       "      <td>0</td>\n",
       "      <td>0</td>\n",
       "      <td>0</td>\n",
       "      <td>0</td>\n",
       "      <td>1</td>\n",
       "      <td>1</td>\n",
       "      <td>0</td>\n",
       "      <td>1</td>\n",
       "      <td>0</td>\n",
       "      <td>0</td>\n",
       "      <td>0</td>\n",
       "      <td>1</td>\n",
       "    </tr>\n",
       "    <tr>\n",
       "      <th>4</th>\n",
       "      <td>2022-01-30</td>\n",
       "      <td>0</td>\n",
       "      <td>0</td>\n",
       "      <td>0</td>\n",
       "      <td>0</td>\n",
       "      <td>0</td>\n",
       "      <td>0</td>\n",
       "      <td>1</td>\n",
       "      <td>1</td>\n",
       "      <td>0</td>\n",
       "      <td>1</td>\n",
       "      <td>0</td>\n",
       "      <td>0</td>\n",
       "      <td>0</td>\n",
       "      <td>1</td>\n",
       "    </tr>\n",
       "    <tr>\n",
       "      <th>...</th>\n",
       "      <td>...</td>\n",
       "      <td>...</td>\n",
       "      <td>...</td>\n",
       "      <td>...</td>\n",
       "      <td>...</td>\n",
       "      <td>...</td>\n",
       "      <td>...</td>\n",
       "      <td>...</td>\n",
       "      <td>...</td>\n",
       "      <td>...</td>\n",
       "      <td>...</td>\n",
       "      <td>...</td>\n",
       "      <td>...</td>\n",
       "      <td>...</td>\n",
       "      <td>...</td>\n",
       "    </tr>\n",
       "    <tr>\n",
       "      <th>8879347</th>\n",
       "      <td>2020-03-20</td>\n",
       "      <td>0</td>\n",
       "      <td>0</td>\n",
       "      <td>0</td>\n",
       "      <td>0</td>\n",
       "      <td>0</td>\n",
       "      <td>1</td>\n",
       "      <td>0</td>\n",
       "      <td>1</td>\n",
       "      <td>0</td>\n",
       "      <td>0</td>\n",
       "      <td>1</td>\n",
       "      <td>0</td>\n",
       "      <td>0</td>\n",
       "      <td>1</td>\n",
       "    </tr>\n",
       "    <tr>\n",
       "      <th>8879348</th>\n",
       "      <td>2020-03-20</td>\n",
       "      <td>1</td>\n",
       "      <td>1</td>\n",
       "      <td>0</td>\n",
       "      <td>0</td>\n",
       "      <td>0</td>\n",
       "      <td>0</td>\n",
       "      <td>1</td>\n",
       "      <td>0</td>\n",
       "      <td>1</td>\n",
       "      <td>1</td>\n",
       "      <td>0</td>\n",
       "      <td>0</td>\n",
       "      <td>1</td>\n",
       "      <td>0</td>\n",
       "    </tr>\n",
       "    <tr>\n",
       "      <th>8879349</th>\n",
       "      <td>2020-03-20</td>\n",
       "      <td>1</td>\n",
       "      <td>0</td>\n",
       "      <td>1</td>\n",
       "      <td>0</td>\n",
       "      <td>1</td>\n",
       "      <td>1</td>\n",
       "      <td>0</td>\n",
       "      <td>1</td>\n",
       "      <td>0</td>\n",
       "      <td>0</td>\n",
       "      <td>1</td>\n",
       "      <td>0</td>\n",
       "      <td>0</td>\n",
       "      <td>1</td>\n",
       "    </tr>\n",
       "    <tr>\n",
       "      <th>8879350</th>\n",
       "      <td>2020-03-20</td>\n",
       "      <td>0</td>\n",
       "      <td>0</td>\n",
       "      <td>0</td>\n",
       "      <td>0</td>\n",
       "      <td>0</td>\n",
       "      <td>1</td>\n",
       "      <td>0</td>\n",
       "      <td>1</td>\n",
       "      <td>0</td>\n",
       "      <td>0</td>\n",
       "      <td>1</td>\n",
       "      <td>0</td>\n",
       "      <td>0</td>\n",
       "      <td>1</td>\n",
       "    </tr>\n",
       "    <tr>\n",
       "      <th>8879351</th>\n",
       "      <td>2020-03-20</td>\n",
       "      <td>0</td>\n",
       "      <td>0</td>\n",
       "      <td>0</td>\n",
       "      <td>0</td>\n",
       "      <td>0</td>\n",
       "      <td>1</td>\n",
       "      <td>0</td>\n",
       "      <td>1</td>\n",
       "      <td>0</td>\n",
       "      <td>1</td>\n",
       "      <td>0</td>\n",
       "      <td>0</td>\n",
       "      <td>0</td>\n",
       "      <td>1</td>\n",
       "    </tr>\n",
       "  </tbody>\n",
       "</table>\n",
       "<p>6566878 rows × 15 columns</p>\n",
       "</div>"
      ],
      "text/plain": [
       "         test_date  cough  fever  sore_throat  shortness_of_breath  head_ache  \\\n",
       "0       2022-01-30      0      0            0                    0          0   \n",
       "1       2022-01-30      0      0            0                    0          0   \n",
       "2       2022-01-30      0      0            0                    0          0   \n",
       "3       2022-01-30      0      0            0                    0          0   \n",
       "4       2022-01-30      0      0            0                    0          0   \n",
       "...            ...    ...    ...          ...                  ...        ...   \n",
       "8879347 2020-03-20      0      0            0                    0          0   \n",
       "8879348 2020-03-20      1      1            0                    0          0   \n",
       "8879349 2020-03-20      1      0            1                    0          1   \n",
       "8879350 2020-03-20      0      0            0                    0          0   \n",
       "8879351 2020-03-20      0      0            0                    0          0   \n",
       "\n",
       "         corona_result_negative  corona_result_positive  age_60_and_above_No  \\\n",
       "0                             0                       1                    1   \n",
       "1                             0                       1                    1   \n",
       "2                             0                       1                    1   \n",
       "3                             0                       1                    1   \n",
       "4                             0                       1                    1   \n",
       "...                         ...                     ...                  ...   \n",
       "8879347                       1                       0                    1   \n",
       "8879348                       0                       1                    0   \n",
       "8879349                       1                       0                    1   \n",
       "8879350                       1                       0                    1   \n",
       "8879351                       1                       0                    1   \n",
       "\n",
       "         age_60_and_above_Yes  gender_female  gender_male  \\\n",
       "0                           0              1            0   \n",
       "1                           0              1            0   \n",
       "2                           0              0            1   \n",
       "3                           0              1            0   \n",
       "4                           0              1            0   \n",
       "...                       ...            ...          ...   \n",
       "8879347                     0              0            1   \n",
       "8879348                     1              1            0   \n",
       "8879349                     0              0            1   \n",
       "8879350                     0              0            1   \n",
       "8879351                     0              1            0   \n",
       "\n",
       "         test_indication_Abroad  test_indication_Contact with confirmed  \\\n",
       "0                             0                                       0   \n",
       "1                             0                                       0   \n",
       "2                             0                                       0   \n",
       "3                             0                                       0   \n",
       "4                             0                                       0   \n",
       "...                         ...                                     ...   \n",
       "8879347                       0                                       0   \n",
       "8879348                       0                                       1   \n",
       "8879349                       0                                       0   \n",
       "8879350                       0                                       0   \n",
       "8879351                       0                                       0   \n",
       "\n",
       "         test_indication_Other  \n",
       "0                            1  \n",
       "1                            1  \n",
       "2                            1  \n",
       "3                            1  \n",
       "4                            1  \n",
       "...                        ...  \n",
       "8879347                      1  \n",
       "8879348                      0  \n",
       "8879349                      1  \n",
       "8879350                      1  \n",
       "8879351                      1  \n",
       "\n",
       "[6566878 rows x 15 columns]"
      ]
     },
     "execution_count": 68,
     "metadata": {},
     "output_type": "execute_result"
    }
   ],
   "source": [
    "data = pd.get_dummies(data)"
   ]
  }
 ],
 "metadata": {
  "kernelspec": {
   "display_name": "Python 3",
   "language": "python",
   "name": "python3"
  },
  "language_info": {
   "codemirror_mode": {
    "name": "ipython",
    "version": 3
   },
   "file_extension": ".py",
   "mimetype": "text/x-python",
   "name": "python",
   "nbconvert_exporter": "python",
   "pygments_lexer": "ipython3",
   "version": "3.8.10"
  }
 },
 "nbformat": 4,
 "nbformat_minor": 5
}
